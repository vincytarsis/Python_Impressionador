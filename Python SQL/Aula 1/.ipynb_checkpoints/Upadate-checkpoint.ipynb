{
 "cells": [
  {
   "cell_type": "markdown",
   "id": "8bdebd98",
   "metadata": {},
   "source": [
    "# Desafio Python e SQL\n",
    "\n",
    "### Upadate"
   ]
  },
  {
   "cell_type": "code",
   "execution_count": 1,
   "id": "68a85e61",
   "metadata": {},
   "outputs": [],
   "source": [
    "import pyodbc\n",
    "\n",
    "dados_conexao = (\"Driver={SQLite3 ODBC Driver};Server=localhost;Database=chinook.db\")\n",
    "\n",
    "conexao = pyodbc.connect(dados_conexao)\n",
    "\n",
    "cursor = conexao.cursor()"
   ]
  },
  {
   "cell_type": "code",
   "execution_count": 2,
   "id": "0892d094",
   "metadata": {},
   "outputs": [],
   "source": [
    "cursor.execute(\"\"\"\n",
    "UPDATE customers SET Email='vincy@embraer.com.br' WHERE Email='luisg@embraer.com.br'\n",
    "\"\"\") # executar o comando SQL\n",
    "\n",
    "cursor.commit() # perpetuar no banco as alterações\n",
    "\n",
    "cursor.close()\n",
    "conexao.close() # finalizar a conexão"
   ]
  },
  {
   "cell_type": "code",
   "execution_count": null,
   "id": "bae1de82",
   "metadata": {},
   "outputs": [],
   "source": []
  }
 ],
 "metadata": {
  "kernelspec": {
   "display_name": "Python 3 (ipykernel)",
   "language": "python",
   "name": "python3"
  },
  "language_info": {
   "codemirror_mode": {
    "name": "ipython",
    "version": 3
   },
   "file_extension": ".py",
   "mimetype": "text/x-python",
   "name": "python",
   "nbconvert_exporter": "python",
   "pygments_lexer": "ipython3",
   "version": "3.10.9"
  }
 },
 "nbformat": 4,
 "nbformat_minor": 5
}
